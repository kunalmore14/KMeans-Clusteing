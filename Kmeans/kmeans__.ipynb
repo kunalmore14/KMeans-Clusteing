{
 "cells": [
  {
   "cell_type": "code",
   "execution_count": 37,
   "id": "9f57ec12",
   "metadata": {},
   "outputs": [],
   "source": [
    "import numpy as np\n",
    "import pandas as pd\n",
    "import matplotlib.ticker as mtick\n",
    "import matplotlib.pyplot as plt\n",
    "import seaborn as sns\n",
    "%matplotlib inline\n",
    "import warnings\n",
    "warnings.filterwarnings('ignore')"
   ]
  },
  {
   "cell_type": "code",
   "execution_count": 38,
   "id": "b68550a8",
   "metadata": {},
   "outputs": [],
   "source": [
    "df= pd.DataFrame({\"c1\":[1,1,2,2,4,4,5,5],\n",
    "                  \"c2\":[1,2,1,2,4,5,4,5],\n",
    "                  \"t\":[0,0,0,0,0,0,0,0]})"
   ]
  },
  {
   "cell_type": "code",
   "execution_count": 39,
   "id": "d9407b36",
   "metadata": {},
   "outputs": [
    {
     "data": {
      "text/html": [
       "<div>\n",
       "<style scoped>\n",
       "    .dataframe tbody tr th:only-of-type {\n",
       "        vertical-align: middle;\n",
       "    }\n",
       "\n",
       "    .dataframe tbody tr th {\n",
       "        vertical-align: top;\n",
       "    }\n",
       "\n",
       "    .dataframe thead th {\n",
       "        text-align: right;\n",
       "    }\n",
       "</style>\n",
       "<table border=\"1\" class=\"dataframe\">\n",
       "  <thead>\n",
       "    <tr style=\"text-align: right;\">\n",
       "      <th></th>\n",
       "      <th>c1</th>\n",
       "      <th>c2</th>\n",
       "      <th>t</th>\n",
       "    </tr>\n",
       "  </thead>\n",
       "  <tbody>\n",
       "    <tr>\n",
       "      <th>0</th>\n",
       "      <td>1</td>\n",
       "      <td>1</td>\n",
       "      <td>0</td>\n",
       "    </tr>\n",
       "    <tr>\n",
       "      <th>1</th>\n",
       "      <td>1</td>\n",
       "      <td>2</td>\n",
       "      <td>0</td>\n",
       "    </tr>\n",
       "    <tr>\n",
       "      <th>2</th>\n",
       "      <td>2</td>\n",
       "      <td>1</td>\n",
       "      <td>0</td>\n",
       "    </tr>\n",
       "    <tr>\n",
       "      <th>3</th>\n",
       "      <td>2</td>\n",
       "      <td>2</td>\n",
       "      <td>0</td>\n",
       "    </tr>\n",
       "    <tr>\n",
       "      <th>4</th>\n",
       "      <td>4</td>\n",
       "      <td>4</td>\n",
       "      <td>0</td>\n",
       "    </tr>\n",
       "    <tr>\n",
       "      <th>5</th>\n",
       "      <td>4</td>\n",
       "      <td>5</td>\n",
       "      <td>0</td>\n",
       "    </tr>\n",
       "    <tr>\n",
       "      <th>6</th>\n",
       "      <td>5</td>\n",
       "      <td>4</td>\n",
       "      <td>0</td>\n",
       "    </tr>\n",
       "    <tr>\n",
       "      <th>7</th>\n",
       "      <td>5</td>\n",
       "      <td>5</td>\n",
       "      <td>0</td>\n",
       "    </tr>\n",
       "  </tbody>\n",
       "</table>\n",
       "</div>"
      ],
      "text/plain": [
       "   c1  c2  t\n",
       "0   1   1  0\n",
       "1   1   2  0\n",
       "2   2   1  0\n",
       "3   2   2  0\n",
       "4   4   4  0\n",
       "5   4   5  0\n",
       "6   5   4  0\n",
       "7   5   5  0"
      ]
     },
     "execution_count": 39,
     "metadata": {},
     "output_type": "execute_result"
    }
   ],
   "source": [
    "df"
   ]
  },
  {
   "cell_type": "code",
   "execution_count": 40,
   "id": "b840987b",
   "metadata": {},
   "outputs": [],
   "source": [
    "cen=np.array([[1,2],[4,4]],dtype=float)"
   ]
  },
  {
   "cell_type": "code",
   "execution_count": 41,
   "id": "ed8a4734",
   "metadata": {},
   "outputs": [
    {
     "data": {
      "image/png": "[encoded data removed]",
      "text/plain": [
       "<Figure size 432x288 with 1 Axes>"
      ]
     },
     "metadata": {
      "needs_background": "light"
     },
     "output_type": "display_data"
    }
   ],
   "source": [
    "sns.scatterplot(x=\"c1\",y=\"c2\",data=df)\n",
    "plt.plot(cen[0][0],cen[1][0],\"go\",label=\"centroid 1\")\n",
    "plt.plot(cen[0][1],cen[1][1],\"ro\",label=\"centroid 2\")\n",
    "plt.legend()\n",
    "plt.show()"
   ]
  },
  {
   "cell_type": "code",
   "execution_count": 42,
   "id": "ac227cd2",
   "metadata": {},
   "outputs": [
    {
     "name": "stdout",
     "output_type": "stream",
     "text": [
      "i= 0 j= (1, 1)\n",
      "j= (1, 1)\n",
      "i= 1 j= (1, 2)\n",
      "j= (1, 2)\n",
      "i= 2 j= (2, 1)\n",
      "j= (2, 1)\n",
      "i= 3 j= (2, 2)\n",
      "j= (2, 2)\n",
      "i= 4 j= (4, 4)\n",
      "j= (4, 4)\n",
      "i= 5 j= (4, 5)\n",
      "j= (4, 5)\n",
      "i= 6 j= (5, 4)\n",
      "j= (5, 4)\n",
      "i= 7 j= (5, 5)\n",
      "j= (5, 5)\n"
     ]
    },
    {
     "data": {
      "text/plain": [
       "[<matplotlib.lines.Line2D at 0x299ee588760>]"
      ]
     },
     "execution_count": 42,
     "metadata": {},
     "output_type": "execute_result"
    },
    {
     "data": {
      "image/png": "[encoded data removed]",
      "text/plain": [
       "<Figure size 432x288 with 1 Axes>"
      ]
     },
     "metadata": {
      "needs_background": "light"
     },
     "output_type": "display_data"
    }
   ],
   "source": [
    "for i, j in enumerate(zip(df['c1'],df['c2'])):\n",
    "    print(\"i=\",i,\"j=\",j)\n",
    "    x,y = j\n",
    "    print(\"j=\",j)\n",
    "\n",
    "    c1 = cen[:,0]\n",
    "    c2 = cen[:,1]  \n",
    "    \n",
    "    d1 = ( (c1[0]-x) **2) + ( (c1[1]-x) **2)\n",
    "    d2 = ( (c2[0]-x) **2) + ( (c2[1]-x) **2)\n",
    "#     print(d1, d2)\n",
    "\n",
    "    if d1>d2: df['t'].iloc[i] = 0\n",
    "    if d2>d1: df['t'].iloc[i] = 1\n",
    "\n",
    "l1 = np.array([i for i in df[df['t'] == 0]['c1']])\n",
    "l2 = np.array([i for i in df[df['t'] == 0]['c2']])\n",
    "\n",
    "l3 = np.array([i for i in df[df['t'] == 1]['c1']])\n",
    "l4 = np.array([i for i in df[df['t'] == 1]['c2']])\n",
    "\n",
    "        \n",
    "cen[0][0] = l1.mean()\n",
    "cen[1][0] = l2.mean()\n",
    "\n",
    "cen[0][1] = l3.mean()\n",
    "cen[1][1] = l4.mean()\n",
    "\n",
    "# print(cen)\n",
    "\n",
    "#sns.scatterplot('c1', 'c2', data=df, hue='t')\n",
    "\n",
    "plt.plot(cen[0][0], cen[1][0], 'ro', label='c1')\n",
    "plt.plot(cen[0][1], cen[1][1], 'go', label='c1')"
   ]
  },
  {
   "cell_type": "code",
   "execution_count": 43,
   "id": "4928dccd",
   "metadata": {},
   "outputs": [
    {
     "name": "stdout",
     "output_type": "stream",
     "text": [
      "i= 0 j= (1, 1)\n",
      "j= (1, 1)\n",
      "i= 1 j= (1, 2)\n",
      "j= (1, 2)\n",
      "i= 2 j= (2, 1)\n",
      "j= (2, 1)\n",
      "i= 3 j= (2, 2)\n",
      "j= (2, 2)\n",
      "i= 4 j= (4, 4)\n",
      "j= (4, 4)\n",
      "i= 5 j= (4, 5)\n",
      "j= (4, 5)\n",
      "i= 6 j= (5, 4)\n",
      "j= (5, 4)\n",
      "i= 7 j= (5, 5)\n",
      "j= (5, 5)\n"
     ]
    },
    {
     "data": {
      "text/plain": [
       "[<matplotlib.lines.Line2D at 0x299ee8c9550>]"
      ]
     },
     "execution_count": 43,
     "metadata": {},
     "output_type": "execute_result"
    },
    {
     "data": {
      "image/png": "[encoded data removed]",
      "text/plain": [
       "<Figure size 432x288 with 1 Axes>"
      ]
     },
     "metadata": {
      "needs_background": "light"
     },
     "output_type": "display_data"
    }
   ],
   "source": [
    "for i, j in enumerate(zip(df['c1'],df['c2'])):\n",
    "    print(\"i=\",i,\"j=\",j)\n",
    "    x,y = j\n",
    "    print(\"j=\",j)\n",
    "\n",
    "    c1 = cen[:,0]\n",
    "    c2 = cen[:,1]  \n",
    "    \n",
    "    d1 = ( (c1[0]-x) **2) + ( (c1[1]-x) **2)\n",
    "    d2 = ( (c2[0]-x) **2) + ( (c2[1]-x) **2)\n",
    "#     print(d1, d2)\n",
    "\n",
    "    if d1>d2: df['t'].iloc[i] = 0\n",
    "    if d2>d1: df['t'].iloc[i] = 1\n",
    "\n",
    "l1 = np.array([i for i in df[df['t'] == 0]['c1']])\n",
    "l2 = np.array([i for i in df[df['t'] == 0]['c2']])\n",
    "\n",
    "l3 = np.array([i for i in df[df['t'] == 1]['c1']])\n",
    "l4 = np.array([i for i in df[df['t'] == 1]['c2']])\n",
    "\n",
    "        \n",
    "cen[0][0] = l1.mean()\n",
    "cen[1][0] = l2.mean()\n",
    "\n",
    "cen[0][1] = l3.mean()\n",
    "cen[1][1] = l4.mean()\n",
    "\n",
    "# print(cen)\n",
    "\n",
    "sns.scatterplot('c1', 'c2', data=df, hue='t')\n",
    "\n",
    "plt.plot(cen[0][0], cen[1][0], 'ro', label='c1')\n",
    "plt.plot(cen[0][1], cen[1][1], 'go', label='c1')"
   ]
  },
  {
   "cell_type": "code",
   "execution_count": 44,
   "id": "a024641d",
   "metadata": {},
   "outputs": [
    {
     "name": "stdout",
     "output_type": "stream",
     "text": [
      "i= 0 j= (1, 1)\n",
      "j= (1, 1)\n",
      "i= 1 j= (1, 2)\n",
      "j= (1, 2)\n",
      "i= 2 j= (2, 1)\n",
      "j= (2, 1)\n",
      "i= 3 j= (2, 2)\n",
      "j= (2, 2)\n",
      "i= 4 j= (4, 4)\n",
      "j= (4, 4)\n",
      "i= 5 j= (4, 5)\n",
      "j= (4, 5)\n",
      "i= 6 j= (5, 4)\n",
      "j= (5, 4)\n",
      "i= 7 j= (5, 5)\n",
      "j= (5, 5)\n"
     ]
    },
    {
     "data": {
      "text/plain": [
       "[<matplotlib.lines.Line2D at 0x299ee95e070>]"
      ]
     },
     "execution_count": 44,
     "metadata": {},
     "output_type": "execute_result"
    },
    {
     "data": {
      "image/png": "[encoded data removed]",
      "text/plain": [
       "<Figure size 432x288 with 1 Axes>"
      ]
     },
     "metadata": {
      "needs_background": "light"
     },
     "output_type": "display_data"
    }
   ],
   "source": [
    "for i, j in enumerate(zip(df['c1'],df['c2'])):\n",
    "    print(\"i=\",i,\"j=\",j)\n",
    "    x,y = j\n",
    "    print(\"j=\",j)\n",
    "\n",
    "    c1 = cen[:,0]\n",
    "    c2 = cen[:,1]  \n",
    "    \n",
    "    d1 = ( (c1[0]-x) **2) + ( (c1[1]-x) **2)\n",
    "    d2 = ( (c2[0]-x) **2) + ( (c2[1]-x) **2)\n",
    "#     print(d1, d2)\n",
    "\n",
    "    if d1>d2: df['t'].iloc[i] = 0\n",
    "    if d2>d1: df['t'].iloc[i] = 1\n",
    "\n",
    "l1 = np.array([i for i in df[df['t'] == 0]['c1']])\n",
    "l2 = np.array([i for i in df[df['t'] == 0]['c2']])\n",
    "\n",
    "l3 = np.array([i for i in df[df['t'] == 1]['c1']])\n",
    "l4 = np.array([i for i in df[df['t'] == 1]['c2']])\n",
    "\n",
    "        \n",
    "cen[0][0] = l1.mean()\n",
    "cen[1][0] = l2.mean()\n",
    "\n",
    "cen[0][1] = l3.mean()\n",
    "cen[1][1] = l4.mean()\n",
    "\n",
    "# print(cen)\n",
    "\n",
    "sns.scatterplot('c1', 'c2', data=df, hue='t')\n",
    "\n",
    "plt.plot(cen[0][0], cen[1][0], 'ro', label='c1')\n",
    "plt.plot(cen[0][1], cen[1][1], 'go', label='c1')"
   ]
  },
  {
   "cell_type": "code",
   "execution_count": 54,
   "id": "2e237aed",
   "metadata": {},
   "outputs": [],
   "source": [
    "from sklearn.datasets import load_iris,load_wine\n",
    "ir=load_wine()\n",
    "df=pd.DataFrame(ir.data,columns=ir.feature_names)"
   ]
  },
  {
   "cell_type": "code",
   "execution_count": 55,
   "id": "1f174302",
   "metadata": {},
   "outputs": [],
   "source": [
    "from sklearn.cluster import KMeans\n"
   ]
  },
  {
   "cell_type": "code",
   "execution_count": 56,
   "id": "5822eb08",
   "metadata": {},
   "outputs": [
    {
     "data": {
      "text/plain": [
       "Text(0, 0.5, 'sum of squares')"
      ]
     },
     "execution_count": 56,
     "metadata": {},
     "output_type": "execute_result"
    },
    {
     "data": {
      "image/png": "[encoded data removed]",
      "text/plain": [
       "<Figure size 720x360 with 1 Axes>"
      ]
     },
     "metadata": {
      "needs_background": "light"
     },
     "output_type": "display_data"
    }
   ],
   "source": [
    "ss=[]\n",
    "for i in range(1,15):\n",
    "    k=KMeans(n_clusters=i)\n",
    "    k.fit(df)\n",
    "    ss.append(k.inertia_)\n",
    "    \n",
    "plt.figure(figsize=(10,5))\n",
    "sns.lineplot(range(1,15),ss)\n",
    "plt.title(\"Elbow Graph\",fontsize=16)\n",
    "plt.xlabel(\"cluster\")\n",
    "plt.ylabel(\"sum of squares\")\n"
   ]
  },
  {
   "cell_type": "code",
   "execution_count": 65,
   "id": "f8b980df",
   "metadata": {},
   "outputs": [
    {
     "data": {
      "text/html": [
       "<div>\n",
       "<style scoped>\n",
       "    .dataframe tbody tr th:only-of-type {\n",
       "        vertical-align: middle;\n",
       "    }\n",
       "\n",
       "    .dataframe tbody tr th {\n",
       "        vertical-align: top;\n",
       "    }\n",
       "\n",
       "    .dataframe thead th {\n",
       "        text-align: right;\n",
       "    }\n",
       "</style>\n",
       "<table border=\"1\" class=\"dataframe\">\n",
       "  <thead>\n",
       "    <tr style=\"text-align: right;\">\n",
       "      <th></th>\n",
       "      <th>alcohol</th>\n",
       "      <th>malic_acid</th>\n",
       "      <th>ash</th>\n",
       "      <th>alcalinity_of_ash</th>\n",
       "      <th>magnesium</th>\n",
       "      <th>total_phenols</th>\n",
       "      <th>flavanoids</th>\n",
       "      <th>nonflavanoid_phenols</th>\n",
       "      <th>proanthocyanins</th>\n",
       "      <th>color_intensity</th>\n",
       "      <th>hue</th>\n",
       "      <th>od280/od315_of_diluted_wines</th>\n",
       "      <th>proline</th>\n",
       "      <th>cluster</th>\n",
       "    </tr>\n",
       "  </thead>\n",
       "  <tbody>\n",
       "    <tr>\n",
       "      <th>0</th>\n",
       "      <td>14.23</td>\n",
       "      <td>1.71</td>\n",
       "      <td>2.43</td>\n",
       "      <td>15.6</td>\n",
       "      <td>127.0</td>\n",
       "      <td>2.80</td>\n",
       "      <td>3.06</td>\n",
       "      <td>0.28</td>\n",
       "      <td>2.29</td>\n",
       "      <td>5.64</td>\n",
       "      <td>1.04</td>\n",
       "      <td>3.92</td>\n",
       "      <td>1065.0</td>\n",
       "      <td>0</td>\n",
       "    </tr>\n",
       "    <tr>\n",
       "      <th>1</th>\n",
       "      <td>13.20</td>\n",
       "      <td>1.78</td>\n",
       "      <td>2.14</td>\n",
       "      <td>11.2</td>\n",
       "      <td>100.0</td>\n",
       "      <td>2.65</td>\n",
       "      <td>2.76</td>\n",
       "      <td>0.26</td>\n",
       "      <td>1.28</td>\n",
       "      <td>4.38</td>\n",
       "      <td>1.05</td>\n",
       "      <td>3.40</td>\n",
       "      <td>1050.0</td>\n",
       "      <td>0</td>\n",
       "    </tr>\n",
       "    <tr>\n",
       "      <th>2</th>\n",
       "      <td>13.16</td>\n",
       "      <td>2.36</td>\n",
       "      <td>2.67</td>\n",
       "      <td>18.6</td>\n",
       "      <td>101.0</td>\n",
       "      <td>2.80</td>\n",
       "      <td>3.24</td>\n",
       "      <td>0.30</td>\n",
       "      <td>2.81</td>\n",
       "      <td>5.68</td>\n",
       "      <td>1.03</td>\n",
       "      <td>3.17</td>\n",
       "      <td>1185.0</td>\n",
       "      <td>0</td>\n",
       "    </tr>\n",
       "    <tr>\n",
       "      <th>3</th>\n",
       "      <td>14.37</td>\n",
       "      <td>1.95</td>\n",
       "      <td>2.50</td>\n",
       "      <td>16.8</td>\n",
       "      <td>113.0</td>\n",
       "      <td>3.85</td>\n",
       "      <td>3.49</td>\n",
       "      <td>0.24</td>\n",
       "      <td>2.18</td>\n",
       "      <td>7.80</td>\n",
       "      <td>0.86</td>\n",
       "      <td>3.45</td>\n",
       "      <td>1480.0</td>\n",
       "      <td>0</td>\n",
       "    </tr>\n",
       "    <tr>\n",
       "      <th>4</th>\n",
       "      <td>13.24</td>\n",
       "      <td>2.59</td>\n",
       "      <td>2.87</td>\n",
       "      <td>21.0</td>\n",
       "      <td>118.0</td>\n",
       "      <td>2.80</td>\n",
       "      <td>2.69</td>\n",
       "      <td>0.39</td>\n",
       "      <td>1.82</td>\n",
       "      <td>4.32</td>\n",
       "      <td>1.04</td>\n",
       "      <td>2.93</td>\n",
       "      <td>735.0</td>\n",
       "      <td>2</td>\n",
       "    </tr>\n",
       "    <tr>\n",
       "      <th>...</th>\n",
       "      <td>...</td>\n",
       "      <td>...</td>\n",
       "      <td>...</td>\n",
       "      <td>...</td>\n",
       "      <td>...</td>\n",
       "      <td>...</td>\n",
       "      <td>...</td>\n",
       "      <td>...</td>\n",
       "      <td>...</td>\n",
       "      <td>...</td>\n",
       "      <td>...</td>\n",
       "      <td>...</td>\n",
       "      <td>...</td>\n",
       "      <td>...</td>\n",
       "    </tr>\n",
       "    <tr>\n",
       "      <th>173</th>\n",
       "      <td>13.71</td>\n",
       "      <td>5.65</td>\n",
       "      <td>2.45</td>\n",
       "      <td>20.5</td>\n",
       "      <td>95.0</td>\n",
       "      <td>1.68</td>\n",
       "      <td>0.61</td>\n",
       "      <td>0.52</td>\n",
       "      <td>1.06</td>\n",
       "      <td>7.70</td>\n",
       "      <td>0.64</td>\n",
       "      <td>1.74</td>\n",
       "      <td>740.0</td>\n",
       "      <td>2</td>\n",
       "    </tr>\n",
       "    <tr>\n",
       "      <th>174</th>\n",
       "      <td>13.40</td>\n",
       "      <td>3.91</td>\n",
       "      <td>2.48</td>\n",
       "      <td>23.0</td>\n",
       "      <td>102.0</td>\n",
       "      <td>1.80</td>\n",
       "      <td>0.75</td>\n",
       "      <td>0.43</td>\n",
       "      <td>1.41</td>\n",
       "      <td>7.30</td>\n",
       "      <td>0.70</td>\n",
       "      <td>1.56</td>\n",
       "      <td>750.0</td>\n",
       "      <td>2</td>\n",
       "    </tr>\n",
       "    <tr>\n",
       "      <th>175</th>\n",
       "      <td>13.27</td>\n",
       "      <td>4.28</td>\n",
       "      <td>2.26</td>\n",
       "      <td>20.0</td>\n",
       "      <td>120.0</td>\n",
       "      <td>1.59</td>\n",
       "      <td>0.69</td>\n",
       "      <td>0.43</td>\n",
       "      <td>1.35</td>\n",
       "      <td>10.20</td>\n",
       "      <td>0.59</td>\n",
       "      <td>1.56</td>\n",
       "      <td>835.0</td>\n",
       "      <td>2</td>\n",
       "    </tr>\n",
       "    <tr>\n",
       "      <th>176</th>\n",
       "      <td>13.17</td>\n",
       "      <td>2.59</td>\n",
       "      <td>2.37</td>\n",
       "      <td>20.0</td>\n",
       "      <td>120.0</td>\n",
       "      <td>1.65</td>\n",
       "      <td>0.68</td>\n",
       "      <td>0.53</td>\n",
       "      <td>1.46</td>\n",
       "      <td>9.30</td>\n",
       "      <td>0.60</td>\n",
       "      <td>1.62</td>\n",
       "      <td>840.0</td>\n",
       "      <td>2</td>\n",
       "    </tr>\n",
       "    <tr>\n",
       "      <th>177</th>\n",
       "      <td>14.13</td>\n",
       "      <td>4.10</td>\n",
       "      <td>2.74</td>\n",
       "      <td>24.5</td>\n",
       "      <td>96.0</td>\n",
       "      <td>2.05</td>\n",
       "      <td>0.76</td>\n",
       "      <td>0.56</td>\n",
       "      <td>1.35</td>\n",
       "      <td>9.20</td>\n",
       "      <td>0.61</td>\n",
       "      <td>1.60</td>\n",
       "      <td>560.0</td>\n",
       "      <td>1</td>\n",
       "    </tr>\n",
       "  </tbody>\n",
       "</table>\n",
       "<p>178 rows × 14 columns</p>\n",
       "</div>"
      ],
      "text/plain": [
       "     alcohol  malic_acid   ash  alcalinity_of_ash  magnesium  total_phenols  \\\n",
       "0      14.23        1.71  2.43               15.6      127.0           2.80   \n",
       "1      13.20        1.78  2.14               11.2      100.0           2.65   \n",
       "2      13.16        2.36  2.67               18.6      101.0           2.80   \n",
       "3      14.37        1.95  2.50               16.8      113.0           3.85   \n",
       "4      13.24        2.59  2.87               21.0      118.0           2.80   \n",
       "..       ...         ...   ...                ...        ...            ...   \n",
       "173    13.71        5.65  2.45               20.5       95.0           1.68   \n",
       "174    13.40        3.91  2.48               23.0      102.0           1.80   \n",
       "175    13.27        4.28  2.26               20.0      120.0           1.59   \n",
       "176    13.17        2.59  2.37               20.0      120.0           1.65   \n",
       "177    14.13        4.10  2.74               24.5       96.0           2.05   \n",
       "\n",
       "     flavanoids  nonflavanoid_phenols  proanthocyanins  color_intensity   hue  \\\n",
       "0          3.06                  0.28             2.29             5.64  1.04   \n",
       "1          2.76                  0.26             1.28             4.38  1.05   \n",
       "2          3.24                  0.30             2.81             5.68  1.03   \n",
       "3          3.49                  0.24             2.18             7.80  0.86   \n",
       "4          2.69                  0.39             1.82             4.32  1.04   \n",
       "..          ...                   ...              ...              ...   ...   \n",
       "173        0.61                  0.52             1.06             7.70  0.64   \n",
       "174        0.75                  0.43             1.41             7.30  0.70   \n",
       "175        0.69                  0.43             1.35            10.20  0.59   \n",
       "176        0.68                  0.53             1.46             9.30  0.60   \n",
       "177        0.76                  0.56             1.35             9.20  0.61   \n",
       "\n",
       "     od280/od315_of_diluted_wines  proline  cluster  \n",
       "0                            3.92   1065.0        0  \n",
       "1                            3.40   1050.0        0  \n",
       "2                            3.17   1185.0        0  \n",
       "3                            3.45   1480.0        0  \n",
       "4                            2.93    735.0        2  \n",
       "..                            ...      ...      ...  \n",
       "173                          1.74    740.0        2  \n",
       "174                          1.56    750.0        2  \n",
       "175                          1.56    835.0        2  \n",
       "176                          1.62    840.0        2  \n",
       "177                          1.60    560.0        1  \n",
       "\n",
       "[178 rows x 14 columns]"
      ]
     },
     "execution_count": 65,
     "metadata": {},
     "output_type": "execute_result"
    }
   ],
   "source": [
    "k=KMeans(n_clusters=3)\n",
    "k.fit(df)\n",
    "df[\"cluster\"]=k.predict(df)\n",
    "df"
   ]
  },
  {
   "cell_type": "code",
   "execution_count": 66,
   "id": "2277bbca",
   "metadata": {},
   "outputs": [
    {
     "data": {
      "text/plain": [
       "0.702247191011236"
      ]
     },
     "execution_count": 66,
     "metadata": {},
     "output_type": "execute_result"
    }
   ],
   "source": [
    "from sklearn.metrics import accuracy_score\n",
    "accuracy_score(ir.target,df['cluster'])"
   ]
  },
  {
   "cell_type": "code",
   "execution_count": 67,
   "id": "1843e276",
   "metadata": {},
   "outputs": [],
   "source": [
    "pred=ir.target"
   ]
  },
  {
   "cell_type": "code",
   "execution_count": 68,
   "id": "7d16fbe7",
   "metadata": {},
   "outputs": [
    {
     "data": {
      "text/plain": [
       "array([0, 0, 0, 0, 0, 0, 0, 0, 0, 0, 0, 0, 0, 0, 0, 0, 0, 0, 0, 0, 0, 0,\n",
       "       0, 0, 0, 0, 0, 0, 0, 0, 0, 0, 0, 0, 0, 0, 0, 0, 0, 0, 0, 0, 0, 0,\n",
       "       0, 0, 0, 0, 0, 0, 0, 0, 0, 0, 0, 0, 0, 0, 0, 1, 1, 1, 1, 1, 1, 1,\n",
       "       1, 1, 1, 1, 1, 1, 1, 1, 1, 1, 1, 1, 1, 1, 1, 1, 1, 1, 1, 1, 1, 1,\n",
       "       1, 1, 1, 1, 1, 1, 1, 1, 1, 1, 1, 1, 1, 1, 1, 1, 1, 1, 1, 1, 1, 1,\n",
       "       1, 1, 1, 1, 1, 1, 1, 1, 1, 1, 1, 1, 1, 1, 1, 1, 1, 1, 1, 1, 2, 2,\n",
       "       2, 2, 2, 2, 2, 2, 2, 2, 2, 2, 2, 2, 2, 2, 2, 2, 2, 2, 2, 2, 2, 2,\n",
       "       2, 2, 2, 2, 2, 2, 2, 2, 2, 2, 2, 2, 2, 2, 2, 2, 2, 2, 2, 2, 2, 2,\n",
       "       2, 2])"
      ]
     },
     "execution_count": 68,
     "metadata": {},
     "output_type": "execute_result"
    }
   ],
   "source": [
    "pred"
   ]
  },
  {
   "cell_type": "code",
   "execution_count": null,
   "id": "5032a7a5",
   "metadata": {},
   "outputs": [],
   "source": []
  }
 ],
 "metadata": {
  "kernelspec": {
   "display_name": "Python 3 (ipykernel)",
   "language": "python",
   "name": "python3"
  },
  "language_info": {
   "codemirror_mode": {
    "name": "ipython",
    "version": 3
   },
   "file_extension": ".py",
   "mimetype": "text/x-python",
   "name": "python",
   "nbconvert_exporter": "python",
   "pygments_lexer": "ipython3",
   "version": "3.9.7"
  }
 },
 "nbformat": 4,
 "nbformat_minor": 5
}
